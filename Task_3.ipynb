{
  "nbformat": 4,
  "nbformat_minor": 0,
  "metadata": {
    "colab": {
      "provenance": []
    },
    "kernelspec": {
      "name": "python3",
      "display_name": "Python 3"
    },
    "language_info": {
      "name": "python"
    }
  },
  "cells": [
    {
      "cell_type": "code",
      "execution_count": 11,
      "metadata": {
        "colab": {
          "base_uri": "https://localhost:8080/"
        },
        "id": "zximZjWWLjK-",
        "outputId": "2b0e32c2-8639-46b6-fab7-a901b082517d"
      },
      "outputs": [
        {
          "output_type": "stream",
          "name": "stdout",
          "text": [
            "Unique classes in dataset: [0 1]\n",
            "Accuracy on dog test images: 100.00%\n",
            "              precision    recall  f1-score   support\n",
            "\n",
            "         Cat       0.00      0.00      0.00         0\n",
            "         Dog       1.00      1.00      1.00       771\n",
            "\n",
            "   micro avg       1.00      1.00      1.00       771\n",
            "   macro avg       0.50      0.50      0.50       771\n",
            "weighted avg       1.00      1.00      1.00       771\n",
            "\n"
          ]
        },
        {
          "output_type": "stream",
          "name": "stderr",
          "text": [
            "/usr/local/lib/python3.10/dist-packages/sklearn/metrics/_classification.py:1344: UndefinedMetricWarning: Precision and F-score are ill-defined and being set to 0.0 in labels with no predicted samples. Use `zero_division` parameter to control this behavior.\n",
            "  _warn_prf(average, modifier, msg_start, len(result))\n",
            "/usr/local/lib/python3.10/dist-packages/sklearn/metrics/_classification.py:1344: UndefinedMetricWarning: Recall and F-score are ill-defined and being set to 0.0 in labels with no true samples. Use `zero_division` parameter to control this behavior.\n",
            "  _warn_prf(average, modifier, msg_start, len(result))\n",
            "/usr/local/lib/python3.10/dist-packages/sklearn/metrics/_classification.py:1344: UndefinedMetricWarning: Precision and F-score are ill-defined and being set to 0.0 in labels with no predicted samples. Use `zero_division` parameter to control this behavior.\n",
            "  _warn_prf(average, modifier, msg_start, len(result))\n",
            "/usr/local/lib/python3.10/dist-packages/sklearn/metrics/_classification.py:1344: UndefinedMetricWarning: Recall and F-score are ill-defined and being set to 0.0 in labels with no true samples. Use `zero_division` parameter to control this behavior.\n",
            "  _warn_prf(average, modifier, msg_start, len(result))\n",
            "/usr/local/lib/python3.10/dist-packages/sklearn/metrics/_classification.py:1344: UndefinedMetricWarning: Precision and F-score are ill-defined and being set to 0.0 in labels with no predicted samples. Use `zero_division` parameter to control this behavior.\n",
            "  _warn_prf(average, modifier, msg_start, len(result))\n",
            "/usr/local/lib/python3.10/dist-packages/sklearn/metrics/_classification.py:1344: UndefinedMetricWarning: Recall and F-score are ill-defined and being set to 0.0 in labels with no true samples. Use `zero_division` parameter to control this behavior.\n",
            "  _warn_prf(average, modifier, msg_start, len(result))\n"
          ]
        }
      ],
      "source": [
        "import numpy as np\n",
        "import os\n",
        "import cv2\n",
        "from sklearn.model_selection import train_test_split\n",
        "from sklearn.svm import SVC\n",
        "from sklearn.metrics import classification_report, accuracy_score\n",
        "from sklearn.preprocessing import StandardScaler\n",
        "\n",
        "# Constants\n",
        "TRAIN_DATADIR = '/content/drive/MyDrive/train'  # Path to the train folder with cat images\n",
        "TEST_DATADIR = '/content/drive/MyDrive/test1'   # Path to the test folder with dog images\n",
        "IMG_SIZE = 100  # Resize images to 100x100 pixels\n",
        "\n",
        "def create_dataset(data_dir, label):\n",
        "    dataset = []\n",
        "    for img in os.listdir(data_dir):\n",
        "        img_path = os.path.join(data_dir, img)\n",
        "        img_array = cv2.imread(img_path, cv2.IMREAD_GRAYSCALE)\n",
        "        if img_array is not None:\n",
        "            new_array = cv2.resize(img_array, (IMG_SIZE, IMG_SIZE))\n",
        "            dataset.append([new_array.flatten(), label])\n",
        "    return dataset\n",
        "\n",
        "# Create datasets\n",
        "cat_dataset = create_dataset(TRAIN_DATADIR, 0)  # 0 for cats\n",
        "dog_dataset = create_dataset(TEST_DATADIR, 1)   # 1 for dogs\n",
        "\n",
        "# Combine datasets\n",
        "if cat_dataset and dog_dataset:\n",
        "    X = np.array([entry[0] for entry in cat_dataset + dog_dataset])  # Features from both datasets\n",
        "    y = np.array([entry[1] for entry in cat_dataset + dog_dataset])  # Labels\n",
        "else:\n",
        "    print(\"One of the datasets is empty. Please check your folders.\")\n",
        "    raise ValueError(\"Both cat and dog images must be present.\")\n",
        "\n",
        "# Check unique classes\n",
        "print(\"Unique classes in dataset:\", np.unique(y))\n",
        "\n",
        "# Standardize the features\n",
        "scaler = StandardScaler()\n",
        "X = scaler.fit_transform(X)  # Scale features\n",
        "\n",
        "# Initialize SVM classifier\n",
        "svm_classifier = SVC(kernel='linear', random_state=42)\n",
        "\n",
        "# Train the SVM classifier with both cat and dog images\n",
        "svm_classifier.fit(X, y)\n",
        "\n",
        "# Prepare and scale test data (dog images)\n",
        "X_test = np.array([entry[0] for entry in dog_dataset])\n",
        "X_test = scaler.transform(X_test)  # Scale test features\n",
        "\n",
        "# Predict on the test set (dog images)\n",
        "y_pred = svm_classifier.predict(X_test)\n",
        "\n",
        "# Since we know all test images are dogs, let's assume they should all be classified as 1 (dogs)\n",
        "y_test = np.array([1] * len(dog_dataset))  # Ground truth (dog images)\n",
        "\n",
        "# Evaluate the model\n",
        "accuracy = accuracy_score(y_test, y_pred)\n",
        "print(f'Accuracy on dog test images: {accuracy * 100:.2f}%')\n",
        "\n",
        "# Print classification report with specified labels\n",
        "print(classification_report(y_test, y_pred, target_names=['Cat', 'Dog'], labels=[0, 1]))\n",
        "\n"
      ]
    },
    {
      "cell_type": "code",
      "source": [],
      "metadata": {
        "id": "dQmL62v4LpuJ"
      },
      "execution_count": null,
      "outputs": []
    }
  ]
}